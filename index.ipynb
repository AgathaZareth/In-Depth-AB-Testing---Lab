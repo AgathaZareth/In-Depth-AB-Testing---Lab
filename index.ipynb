{
 "cells": [
  {
   "cell_type": "markdown",
   "metadata": {},
   "source": [
    "# In Depth A/B Testing - Lab\n",
    "\n",
    "## Introduction\n",
    "\n",
    "In this lab, you'll explore a survey from Kaggle regarding budding data scientists. With this, you'll form some initial hypotheses, and test them using the tools you've acquired to date. \n",
    "\n",
    "## Objectives\n",
    "\n",
    "You will be able to:\n",
    "* Conduct t-tests and an ANOVA on a real-world dataset and interpret the results"
   ]
  },
  {
   "cell_type": "markdown",
   "metadata": {},
   "source": [
    "## Load the Dataset and Perform a Brief Exploration\n",
    "\n",
    "The data is stored in a file called **multipleChoiceResponses_cleaned.csv**. Feel free to check out the original dataset referenced at the bottom of this lab, although this cleaned version will undoubtedly be easier to work with. Additionally, meta-data regarding the questions is stored in a file name **schema.csv**. Load in the data itself as a Pandas DataFrame, and take a moment to briefly get acquainted with it.\n",
    "\n",
    "> Note: If you can't get the file to load properly, try changing the encoding format as in `encoding='latin1'`"
   ]
  },
  {
   "cell_type": "code",
   "execution_count": 1,
   "metadata": {},
   "outputs": [],
   "source": [
    "#Your code here\n",
    "import pandas as pd\n",
    "import numpy as np\n",
    "import scipy.stats as stats\n",
    "import statsmodels.api as sm\n",
    "from statsmodels.formula.api import ols\n",
    "import matplotlib.pyplot as plt\n",
    "import seaborn as sns\n",
    "sns.set_style('darkgrid')\n",
    "%matplotlib inline"
   ]
  },
  {
   "cell_type": "code",
   "execution_count": 2,
   "metadata": {},
   "outputs": [
    {
     "name": "stderr",
     "output_type": "stream",
     "text": [
      "/Users/me/opt/anaconda3/envs/learn-env/lib/python3.8/site-packages/IPython/core/interactiveshell.py:3145: DtypeWarning: Columns (1,2,3,4,5,6,7,8,9,10,11,12,13,14,15,16,17,18,19,20,21,22,23,24,25,26,27,28,29,30,31,32,33,34,35,36,37,38,39,40,41,42,43,44,45,46,47,48,49,50,51,52,53,54,55,56,57,58,65,66,67,68,69,70,71,72,73,74,75,76,77,78,79,80,81,82,83,84,85,86,87,88,89,90,91,92,93,94,95,96,97,98,99,100,101,102,103,104,105,106,107,108,109,110,111,112,113,114,115,116,117,118,119,120,121,122,123,124,125,126,127,128,129,130,131,132,133,134,135,136,137,138,139,140,141,142,143,144,145,146,147,148,149,150,151,152,153,154,155,156,157,158,159,160,161,162,163,164,165,172,173,174,175,176,177,178,179,180,181,182,183,184,185,186,187,188,189,190,191,192,193,194,195,196,197,198,199,200,201,202,203,204,205,207,208,209,210,211,212,213,214,215,216,217,218,219,220,221,222,223,224,225,226,227) have mixed types.Specify dtype option on import or set low_memory=False.\n",
      "  has_raised = await self.run_ast_nodes(code_ast.body, cell_name,\n"
     ]
    }
   ],
   "source": [
    "data = pd.read_csv('multipleChoiceResponses_cleaned.csv', encoding='latin1')\n"
   ]
  },
  {
   "cell_type": "code",
   "execution_count": 3,
   "metadata": {},
   "outputs": [
    {
     "data": {
      "text/html": [
       "<div>\n",
       "<style scoped>\n",
       "    .dataframe tbody tr th:only-of-type {\n",
       "        vertical-align: middle;\n",
       "    }\n",
       "\n",
       "    .dataframe tbody tr th {\n",
       "        vertical-align: top;\n",
       "    }\n",
       "\n",
       "    .dataframe thead th {\n",
       "        text-align: right;\n",
       "    }\n",
       "</style>\n",
       "<table border=\"1\" class=\"dataframe\">\n",
       "  <thead>\n",
       "    <tr style=\"text-align: right;\">\n",
       "      <th></th>\n",
       "      <th>Column</th>\n",
       "      <th>Question</th>\n",
       "      <th>Asked</th>\n",
       "    </tr>\n",
       "  </thead>\n",
       "  <tbody>\n",
       "    <tr>\n",
       "      <th>0</th>\n",
       "      <td>GenderSelect</td>\n",
       "      <td>Select your gender identity. - Selected Choice</td>\n",
       "      <td>All</td>\n",
       "    </tr>\n",
       "    <tr>\n",
       "      <th>1</th>\n",
       "      <td>GenderFreeForm</td>\n",
       "      <td>Select your gender identity. - A different ide...</td>\n",
       "      <td>All</td>\n",
       "    </tr>\n",
       "    <tr>\n",
       "      <th>2</th>\n",
       "      <td>Country</td>\n",
       "      <td>Select the country you currently live in.</td>\n",
       "      <td>All</td>\n",
       "    </tr>\n",
       "    <tr>\n",
       "      <th>3</th>\n",
       "      <td>Age</td>\n",
       "      <td>What's your age?</td>\n",
       "      <td>All</td>\n",
       "    </tr>\n",
       "    <tr>\n",
       "      <th>4</th>\n",
       "      <td>EmploymentStatus</td>\n",
       "      <td>What's your current employment status?</td>\n",
       "      <td>All</td>\n",
       "    </tr>\n",
       "  </tbody>\n",
       "</table>\n",
       "</div>"
      ],
      "text/plain": [
       "             Column                                           Question Asked\n",
       "0      GenderSelect     Select your gender identity. - Selected Choice   All\n",
       "1    GenderFreeForm  Select your gender identity. - A different ide...   All\n",
       "2           Country          Select the country you currently live in.   All\n",
       "3               Age                                   What's your age?   All\n",
       "4  EmploymentStatus             What's your current employment status?   All"
      ]
     },
     "execution_count": 3,
     "metadata": {},
     "output_type": "execute_result"
    }
   ],
   "source": [
    "schema = pd.read_csv('schema.csv')\n",
    "schema.head()"
   ]
  },
  {
   "cell_type": "code",
   "execution_count": 4,
   "metadata": {},
   "outputs": [
    {
     "data": {
      "text/html": [
       "<div>\n",
       "<style scoped>\n",
       "    .dataframe tbody tr th:only-of-type {\n",
       "        vertical-align: middle;\n",
       "    }\n",
       "\n",
       "    .dataframe tbody tr th {\n",
       "        vertical-align: top;\n",
       "    }\n",
       "\n",
       "    .dataframe thead th {\n",
       "        text-align: right;\n",
       "    }\n",
       "</style>\n",
       "<table border=\"1\" class=\"dataframe\">\n",
       "  <thead>\n",
       "    <tr style=\"text-align: right;\">\n",
       "      <th></th>\n",
       "      <th>GenderSelect</th>\n",
       "      <th>Country</th>\n",
       "      <th>Age</th>\n",
       "      <th>EmploymentStatus</th>\n",
       "      <th>StudentStatus</th>\n",
       "      <th>LearningDataScience</th>\n",
       "      <th>CodeWriter</th>\n",
       "      <th>CareerSwitcher</th>\n",
       "      <th>CurrentJobTitleSelect</th>\n",
       "      <th>TitleFit</th>\n",
       "      <th>...</th>\n",
       "      <th>JobFactorTitle</th>\n",
       "      <th>JobFactorCompanyFunding</th>\n",
       "      <th>JobFactorImpact</th>\n",
       "      <th>JobFactorRemote</th>\n",
       "      <th>JobFactorIndustry</th>\n",
       "      <th>JobFactorLeaderReputation</th>\n",
       "      <th>JobFactorDiversity</th>\n",
       "      <th>JobFactorPublishingOpportunity</th>\n",
       "      <th>exchangeRate</th>\n",
       "      <th>AdjustedCompensation</th>\n",
       "    </tr>\n",
       "  </thead>\n",
       "  <tbody>\n",
       "    <tr>\n",
       "      <th>26389</th>\n",
       "      <td>Female</td>\n",
       "      <td>Other</td>\n",
       "      <td>24.0</td>\n",
       "      <td>Not employed, but looking for work</td>\n",
       "      <td>NaN</td>\n",
       "      <td>NaN</td>\n",
       "      <td>NaN</td>\n",
       "      <td>NaN</td>\n",
       "      <td>NaN</td>\n",
       "      <td>NaN</td>\n",
       "      <td>...</td>\n",
       "      <td>NaN</td>\n",
       "      <td>NaN</td>\n",
       "      <td>NaN</td>\n",
       "      <td>NaN</td>\n",
       "      <td>NaN</td>\n",
       "      <td>NaN</td>\n",
       "      <td>NaN</td>\n",
       "      <td>NaN</td>\n",
       "      <td>NaN</td>\n",
       "      <td>NaN</td>\n",
       "    </tr>\n",
       "    <tr>\n",
       "      <th>26390</th>\n",
       "      <td>Male</td>\n",
       "      <td>Indonesia</td>\n",
       "      <td>25.0</td>\n",
       "      <td>Employed full-time</td>\n",
       "      <td>NaN</td>\n",
       "      <td>NaN</td>\n",
       "      <td>Yes</td>\n",
       "      <td>NaN</td>\n",
       "      <td>Programmer</td>\n",
       "      <td>Fine</td>\n",
       "      <td>...</td>\n",
       "      <td>NaN</td>\n",
       "      <td>NaN</td>\n",
       "      <td>NaN</td>\n",
       "      <td>NaN</td>\n",
       "      <td>NaN</td>\n",
       "      <td>NaN</td>\n",
       "      <td>NaN</td>\n",
       "      <td>NaN</td>\n",
       "      <td>0.000076</td>\n",
       "      <td>NaN</td>\n",
       "    </tr>\n",
       "    <tr>\n",
       "      <th>26391</th>\n",
       "      <td>Female</td>\n",
       "      <td>Taiwan</td>\n",
       "      <td>25.0</td>\n",
       "      <td>Employed part-time</td>\n",
       "      <td>NaN</td>\n",
       "      <td>NaN</td>\n",
       "      <td>No</td>\n",
       "      <td>Yes</td>\n",
       "      <td>NaN</td>\n",
       "      <td>NaN</td>\n",
       "      <td>...</td>\n",
       "      <td>NaN</td>\n",
       "      <td>NaN</td>\n",
       "      <td>NaN</td>\n",
       "      <td>NaN</td>\n",
       "      <td>NaN</td>\n",
       "      <td>NaN</td>\n",
       "      <td>NaN</td>\n",
       "      <td>NaN</td>\n",
       "      <td>NaN</td>\n",
       "      <td>NaN</td>\n",
       "    </tr>\n",
       "    <tr>\n",
       "      <th>26392</th>\n",
       "      <td>Female</td>\n",
       "      <td>Singapore</td>\n",
       "      <td>16.0</td>\n",
       "      <td>I prefer not to say</td>\n",
       "      <td>Yes</td>\n",
       "      <td>Yes, but data science is a small part of what ...</td>\n",
       "      <td>NaN</td>\n",
       "      <td>NaN</td>\n",
       "      <td>NaN</td>\n",
       "      <td>NaN</td>\n",
       "      <td>...</td>\n",
       "      <td>NaN</td>\n",
       "      <td>NaN</td>\n",
       "      <td>NaN</td>\n",
       "      <td>NaN</td>\n",
       "      <td>NaN</td>\n",
       "      <td>NaN</td>\n",
       "      <td>NaN</td>\n",
       "      <td>NaN</td>\n",
       "      <td>NaN</td>\n",
       "      <td>NaN</td>\n",
       "    </tr>\n",
       "    <tr>\n",
       "      <th>26393</th>\n",
       "      <td>Male</td>\n",
       "      <td>Japan</td>\n",
       "      <td>27.0</td>\n",
       "      <td>Employed full-time</td>\n",
       "      <td>NaN</td>\n",
       "      <td>NaN</td>\n",
       "      <td>No</td>\n",
       "      <td>Yes</td>\n",
       "      <td>Programmer</td>\n",
       "      <td>Fine</td>\n",
       "      <td>...</td>\n",
       "      <td>NaN</td>\n",
       "      <td>NaN</td>\n",
       "      <td>NaN</td>\n",
       "      <td>NaN</td>\n",
       "      <td>NaN</td>\n",
       "      <td>NaN</td>\n",
       "      <td>NaN</td>\n",
       "      <td>NaN</td>\n",
       "      <td>NaN</td>\n",
       "      <td>NaN</td>\n",
       "    </tr>\n",
       "  </tbody>\n",
       "</table>\n",
       "<p>5 rows × 230 columns</p>\n",
       "</div>"
      ],
      "text/plain": [
       "      GenderSelect    Country   Age                    EmploymentStatus  \\\n",
       "26389       Female      Other  24.0  Not employed, but looking for work   \n",
       "26390         Male  Indonesia  25.0                  Employed full-time   \n",
       "26391       Female     Taiwan  25.0                  Employed part-time   \n",
       "26392       Female  Singapore  16.0                 I prefer not to say   \n",
       "26393         Male      Japan  27.0                  Employed full-time   \n",
       "\n",
       "      StudentStatus                                LearningDataScience  \\\n",
       "26389           NaN                                                NaN   \n",
       "26390           NaN                                                NaN   \n",
       "26391           NaN                                                NaN   \n",
       "26392           Yes  Yes, but data science is a small part of what ...   \n",
       "26393           NaN                                                NaN   \n",
       "\n",
       "      CodeWriter CareerSwitcher CurrentJobTitleSelect TitleFit  ...  \\\n",
       "26389        NaN            NaN                   NaN      NaN  ...   \n",
       "26390        Yes            NaN            Programmer     Fine  ...   \n",
       "26391         No            Yes                   NaN      NaN  ...   \n",
       "26392        NaN            NaN                   NaN      NaN  ...   \n",
       "26393         No            Yes            Programmer     Fine  ...   \n",
       "\n",
       "      JobFactorTitle JobFactorCompanyFunding JobFactorImpact JobFactorRemote  \\\n",
       "26389            NaN                     NaN             NaN             NaN   \n",
       "26390            NaN                     NaN             NaN             NaN   \n",
       "26391            NaN                     NaN             NaN             NaN   \n",
       "26392            NaN                     NaN             NaN             NaN   \n",
       "26393            NaN                     NaN             NaN             NaN   \n",
       "\n",
       "      JobFactorIndustry JobFactorLeaderReputation JobFactorDiversity  \\\n",
       "26389               NaN                       NaN                NaN   \n",
       "26390               NaN                       NaN                NaN   \n",
       "26391               NaN                       NaN                NaN   \n",
       "26392               NaN                       NaN                NaN   \n",
       "26393               NaN                       NaN                NaN   \n",
       "\n",
       "      JobFactorPublishingOpportunity exchangeRate AdjustedCompensation  \n",
       "26389                            NaN          NaN                  NaN  \n",
       "26390                            NaN     0.000076                  NaN  \n",
       "26391                            NaN          NaN                  NaN  \n",
       "26392                            NaN          NaN                  NaN  \n",
       "26393                            NaN          NaN                  NaN  \n",
       "\n",
       "[5 rows x 230 columns]"
      ]
     },
     "execution_count": 4,
     "metadata": {},
     "output_type": "execute_result"
    }
   ],
   "source": [
    "data.tail()"
   ]
  },
  {
   "cell_type": "markdown",
   "metadata": {},
   "source": [
    "## Wages and Education\n",
    "\n",
    "You've been asked to determine whether education is impactful to salary. Develop a hypothesis test to compare the salaries of those with Master's degrees to those with Bachelor's degrees. Are the two statistically different according to your results?\n",
    "\n",
    "> Note: The relevant features are stored in the 'FormalEducation' and 'AdjustedCompensation' features.\n",
    "\n",
    "You may import the functions stored in the `flatiron_stats.py` file to help perform your hypothesis tests. It contains the stats functions that you previously coded: `welch_t(a,b)`, `welch_df(a, b)`, and `p_value(a, b, two_sided=False)`. \n",
    "\n",
    "Note that `scipy.stats.ttest_ind(a, b, equal_var=False)` performs a two-sided Welch's t-test and that p-values derived from two-sided tests are two times the p-values derived from one-sided tests. See the [documentation](https://docs.scipy.org/doc/scipy/reference/generated/scipy.stats.ttest_ind.html) for more information.    "
   ]
  },
  {
   "cell_type": "code",
   "execution_count": 5,
   "metadata": {},
   "outputs": [],
   "source": [
    "\"\"\"\n",
    "Null Hypothesis:\n",
    "Having a Bachelor's degree or a Master's degree does not impact \n",
    "the mean compensation of budding data scientists. \n",
    "\n",
    "ALternative Hypothesis:\n",
    "Mean of adjusted compensation increases if you have a Master's\n",
    "degree vs a Bachelor's degree.\n",
    "\"\"\"\n",
    "\n",
    "alpha = .05"
   ]
  },
  {
   "cell_type": "code",
   "execution_count": 6,
   "metadata": {},
   "outputs": [
    {
     "data": {
      "text/html": [
       "<div>\n",
       "<style scoped>\n",
       "    .dataframe tbody tr th:only-of-type {\n",
       "        vertical-align: middle;\n",
       "    }\n",
       "\n",
       "    .dataframe tbody tr th {\n",
       "        vertical-align: top;\n",
       "    }\n",
       "\n",
       "    .dataframe thead th {\n",
       "        text-align: right;\n",
       "    }\n",
       "</style>\n",
       "<table border=\"1\" class=\"dataframe\">\n",
       "  <thead>\n",
       "    <tr style=\"text-align: right;\">\n",
       "      <th></th>\n",
       "      <th>FormalEducation</th>\n",
       "      <th>AdjustedCompensation</th>\n",
       "    </tr>\n",
       "  </thead>\n",
       "  <tbody>\n",
       "    <tr>\n",
       "      <th>26185</th>\n",
       "      <td>Bachelor's degree</td>\n",
       "      <td>50000.000</td>\n",
       "    </tr>\n",
       "    <tr>\n",
       "      <th>26195</th>\n",
       "      <td>Bachelor's degree</td>\n",
       "      <td>100449.384</td>\n",
       "    </tr>\n",
       "    <tr>\n",
       "      <th>26203</th>\n",
       "      <td>Doctoral degree</td>\n",
       "      <td>200000.000</td>\n",
       "    </tr>\n",
       "    <tr>\n",
       "      <th>26255</th>\n",
       "      <td>Master's degree</td>\n",
       "      <td>89686.950</td>\n",
       "    </tr>\n",
       "    <tr>\n",
       "      <th>26378</th>\n",
       "      <td>Master's degree</td>\n",
       "      <td>10000.000</td>\n",
       "    </tr>\n",
       "  </tbody>\n",
       "</table>\n",
       "</div>"
      ],
      "text/plain": [
       "         FormalEducation  AdjustedCompensation\n",
       "26185  Bachelor's degree             50000.000\n",
       "26195  Bachelor's degree            100449.384\n",
       "26203    Doctoral degree            200000.000\n",
       "26255    Master's degree             89686.950\n",
       "26378    Master's degree             10000.000"
      ]
     },
     "execution_count": 6,
     "metadata": {},
     "output_type": "execute_result"
    }
   ],
   "source": [
    "# new df with just the things I need\n",
    "ed_sal = data[['FormalEducation', 'AdjustedCompensation']].dropna()\n",
    "ed_sal.tail()"
   ]
  },
  {
   "cell_type": "code",
   "execution_count": 7,
   "metadata": {},
   "outputs": [],
   "source": [
    "# sample 1 = bachelors\n",
    "bachelors = ed_sal[ed_sal['FormalEducation'] == \"Bachelor's degree\"][\"AdjustedCompensation\"]\n",
    "\n",
    "# sample 2 = masters\n",
    "masters = ed_sal[ed_sal['FormalEducation'] == \"Master's degree\"][\"AdjustedCompensation\"]"
   ]
  },
  {
   "cell_type": "code",
   "execution_count": 8,
   "metadata": {},
   "outputs": [
    {
     "data": {
      "image/png": "[encoded data removed]",
      "text/plain": [
       "<Figure size 720x360 with 1 Axes>"
      ]
     },
     "metadata": {
      "needs_background": "light"
     },
     "output_type": "display_data"
    }
   ],
   "source": [
    "fig, ax = plt.subplots(figsize=(10,5))\n",
    "\n",
    "# bachelor's\n",
    "sns.histplot(data=bachelors, stat='density', kde=True, bins='auto', color=\"green\", alpha=.3, label=\"Bachelor's degree\")\n",
    "plt.axvline(x=bachelors.mean(), color='green', ls=\"-.\", label=\"Bachelor's degree mean compensation\", lw=1.5)\n",
    "\n",
    "# master's\n",
    "sns.histplot(data=masters, stat='density', kde=True, bins='auto', color=\"navy\", alpha=.3, label=\"Master's degree\")\n",
    "plt.axvline(x=masters.mean(), color='navy', ls=\"--\", label=\"Master's degree mean compensation\", lw=1.5)\n",
    "\n",
    "ax.set_xlim(0, 300000)\n",
    "plt.legend()\n",
    "plt.show();"
   ]
  },
  {
   "cell_type": "code",
   "execution_count": 9,
   "metadata": {},
   "outputs": [
    {
     "name": "stdout",
     "output_type": "stream",
     "text": [
      "Adjusted Compensation\n",
      "Bachelor's Degree vs. Master's Degree\n",
      "mean:\n",
      "    $64887 : $69139\n",
      "    difference: $4252\n",
      "median:\n",
      "    $38399 : $53812\n",
      "    difference: $15413\n",
      "standard deviation:\n",
      "    306935 : 135527\n",
      "sample size:\n",
      "    1107 : 1990\n"
     ]
    }
   ],
   "source": [
    "# compare the two groups: mean, median, sd\n",
    "\n",
    "print(\"Adjusted Compensation\")\n",
    "print(\"Bachelor's Degree vs. Master's Degree\")\n",
    "print(\"mean:\")\n",
    "print(f\"    ${int(bachelors.mean())} : ${int(masters.mean())}\")\n",
    "print(f\"    difference: ${(int(masters.mean()))-(int(bachelors.mean()))}\")\n",
    "print(\"median:\")\n",
    "print(f\"    ${int(bachelors.median())} : ${int(masters.median())}\")\n",
    "print(f\"    difference: ${(int(masters.median()))-(int(bachelors.median()))}\")\n",
    "print(\"standard deviation:\")\n",
    "print(f\"    {int(bachelors.std())} : {int(masters.std())}\")\n",
    "print(\"sample size:\")\n",
    "print(f\"    {len(bachelors)} : {len(masters)}\")\n",
    "\n"
   ]
  },
  {
   "cell_type": "code",
   "execution_count": 10,
   "metadata": {},
   "outputs": [
    {
     "data": {
      "text/plain": [
       "0.33077639451272445"
      ]
     },
     "execution_count": 10,
     "metadata": {},
     "output_type": "execute_result"
    }
   ],
   "source": [
    "# find the p-value\n",
    "t_stat, p_value = stats.ttest_ind(bachelors, masters, equal_var=False, nan_policy='omit') # equal_var=False: Welch's T-test\n",
    "oneside_pval = p_value/2\n",
    "oneside_pval"
   ]
  },
  {
   "cell_type": "code",
   "execution_count": 11,
   "metadata": {},
   "outputs": [
    {
     "data": {
      "text/plain": [
       "False"
      ]
     },
     "execution_count": 11,
     "metadata": {},
     "output_type": "execute_result"
    }
   ],
   "source": [
    "# conclusions\n",
    "\"\"\"\n",
    "The p-value of .33 is not less than the alpha threshold of .05, \n",
    "therefore, I have failed to reject the null hypothesis. \n",
    "There is no significant relationship between a budding data \n",
    "scientist's formal education of a Bachelor's vs a Master's degree \n",
    "and their adjusted compensation.\n",
    "\"\"\"\n",
    "oneside_pval < alpha"
   ]
  },
  {
   "cell_type": "code",
   "execution_count": 12,
   "metadata": {},
   "outputs": [],
   "source": [
    "# copy paste functions from past labs, visualization aids\n",
    "def get_sample(data, n):\n",
    "    sample = []\n",
    "    while len(sample) < n:\n",
    "        sample.append(np.random.choice(data))\n",
    "    return sample\n",
    "\n",
    "\n",
    "def create_sample_distribution(data, dist_size, n):\n",
    "    sample_dist = []\n",
    "    while len(sample_dist) < dist_size:\n",
    "        sample = get_sample(data, n)\n",
    "        sample_mean = np.mean(sample)\n",
    "        sample_dist.append(round(sample_mean, 3))\n",
    "    return sample_dist\n"
   ]
  },
  {
   "cell_type": "code",
   "execution_count": 13,
   "metadata": {},
   "outputs": [],
   "source": [
    "########################\n",
    "\n",
    "# CLAUDE, CHECK BELOW.\n",
    "\n",
    "# I took 2000 samples (sample size 30) of data and visually \n",
    "# (ie somewhat arbitrarily) decided a threshold for\n",
    "# \"you obviously don't belong\" data. Then, (it gets worse)\n",
    "# I made a second cut to grab the 99% of my visual edit, ie\n",
    "# \"ok, sure, you look like you belong but I only want \n",
    "# the inner bits of you\" data and used that for new \n",
    "# p value (outliers removed)... it doesn't feel 'right' but \n",
    "# not sure how else to do it.\n",
    "# There has to be a numeric way to do this properly.\n",
    "\n",
    "########################"
   ]
  },
  {
   "cell_type": "code",
   "execution_count": 14,
   "metadata": {},
   "outputs": [
    {
     "data": {
      "image/png": "[encoded data removed]",
      "text/plain": [
       "<Figure size 360x360 with 1 Axes>"
      ]
     },
     "metadata": {
      "needs_background": "light"
     },
     "output_type": "display_data"
    }
   ],
   "source": [
    "# bachelor's \n",
    "dist_size = 2000\n",
    "n = 30\n",
    "b_data_1k = create_sample_distribution(bachelors, dist_size, n)\n",
    "\n",
    "sns.displot(data=b_data_1k, x=b_data_1k, kind=\"kde\")\n",
    "sns.histplot(data=b_data_1k, stat='density', bins='auto')\n",
    "#sns.histplot(data=data_1k, kde=True, stat='density', bins='auto')\n",
    "plt.show();\n"
   ]
  },
  {
   "cell_type": "code",
   "execution_count": 15,
   "metadata": {},
   "outputs": [
    {
     "data": {
      "image/png": "[encoded data removed]",
      "text/plain": [
       "<Figure size 360x360 with 1 Axes>"
      ]
     },
     "metadata": {
      "needs_background": "light"
     },
     "output_type": "display_data"
    }
   ],
   "source": [
    "# master's \n",
    "dist_size = 2000\n",
    "n = 30\n",
    "m_data_1k = create_sample_distribution(masters, dist_size, n)\n",
    "\n",
    "sns.displot(data=m_data_1k, x=m_data_1k, kind=\"kde\")\n",
    "sns.histplot(data=m_data_1k, stat='density', bins='auto')\n",
    "\n",
    "plt.show();"
   ]
  },
  {
   "cell_type": "code",
   "execution_count": 16,
   "metadata": {},
   "outputs": [],
   "source": [
    "# remove outliers \n",
    "no_out_b = [salery for salery in b_data_1k if salery < 150000]\n",
    "no_out_m = [salery for salery in m_data_1k if salery < 175000]\n",
    "\n",
    "# calculate means\n",
    "b_x_bar = np.mean(no_out_b)\n",
    "m_x_bar = np.mean(no_out_m)\n",
    "\n",
    "# calculate standard deviations\n",
    "b_s = np.std(no_out_b)\n",
    "m_s = np.std(no_out_m)"
   ]
  },
  {
   "cell_type": "code",
   "execution_count": 17,
   "metadata": {},
   "outputs": [
    {
     "name": "stdout",
     "output_type": "stream",
     "text": [
      "Adjusted Compensation\n",
      "Bachelor's Degree vs. Master's Degree\n",
      "mean:\n",
      "    $55234 : $66903\n",
      "    difference: $11669\n",
      "median:\n",
      "    $53535 : $64094\n",
      "    difference: $10559\n",
      "standard deviation:\n",
      "    12643 : 16752\n",
      "sample size:\n",
      "    1941 : 1964\n"
     ]
    }
   ],
   "source": [
    "# compare the two groups: mean, median, sd\n",
    "\n",
    "print(\"Adjusted Compensation\")\n",
    "print(\"Bachelor's Degree vs. Master's Degree\")\n",
    "print(\"mean:\")\n",
    "print(f\"    ${int(b_x_bar)} : ${int(m_x_bar)}\")\n",
    "print(f\"    difference: ${(int(m_x_bar))-(int(b_x_bar))}\")\n",
    "print(\"median:\")\n",
    "print(f\"    ${int(np.median(no_out_b))} : ${int(np.median(no_out_m))}\")\n",
    "print(f\"    difference: ${(int(np.median(no_out_m)))-(int(np.median(no_out_b)))}\")\n",
    "print(\"standard deviation:\")\n",
    "print(f\"    {int(b_s)} : {int(m_s)}\")\n",
    "print(\"sample size:\")\n",
    "print(f\"    {len(no_out_b)} : {len(no_out_m)}\")\n",
    "\n"
   ]
  },
  {
   "cell_type": "code",
   "execution_count": 18,
   "metadata": {},
   "outputs": [],
   "source": [
    "# calculate 99% ranges, 3 sd's from mean\n",
    "b_right_99 = round(b_x_bar+(3*b_s), 2)\n",
    "m_right_99 = round(m_x_bar+(3*m_s), 2)"
   ]
  },
  {
   "cell_type": "code",
   "execution_count": 19,
   "metadata": {},
   "outputs": [],
   "source": [
    "b_sans_out = [salery for salery in bachelors if salery < b_right_99]\n",
    "m_sans_out = [salery for salery in bachelors if salery < m_right_99] "
   ]
  },
  {
   "cell_type": "code",
   "execution_count": 20,
   "metadata": {},
   "outputs": [
    {
     "data": {
      "text/plain": [
       "3.580242889475543e-07"
      ]
     },
     "execution_count": 20,
     "metadata": {},
     "output_type": "execute_result"
    }
   ],
   "source": [
    "# find the p-value with outliers removed\n",
    "t_stat, p_value = stats.ttest_ind(b_sans_out, m_sans_out, equal_var=False, nan_policy='omit') # equal_var=False: Welch's T-test\n",
    "oneside_pval = p_value/2\n",
    "oneside_pval"
   ]
  },
  {
   "cell_type": "code",
   "execution_count": 21,
   "metadata": {},
   "outputs": [
    {
     "data": {
      "text/plain": [
       "True"
      ]
     },
     "execution_count": 21,
     "metadata": {},
     "output_type": "execute_result"
    }
   ],
   "source": [
    "# conclusions with outliers removed\n",
    "# p-value changes every time it runs so I intentionally did not write it out\n",
    "\"\"\"\n",
    "The p-value is less than the alpha threshold of .05, \n",
    "therefore, I have rejected the null hypothesis. \n",
    "There is a relationship between a budding data \n",
    "scientist's formal education of a Bachelor's vs a Master's degree \n",
    "and their adjusted compensation.\n",
    "\"\"\"\n",
    "oneside_pval < alpha"
   ]
  },
  {
   "cell_type": "code",
   "execution_count": 22,
   "metadata": {},
   "outputs": [],
   "source": [
    "# find effect size?"
   ]
  },
  {
   "cell_type": "code",
   "execution_count": 23,
   "metadata": {},
   "outputs": [],
   "source": [
    "########################\n",
    "\n",
    "# CLAUDE, end here that method, tried something diff below\n",
    "########################"
   ]
  },
  {
   "cell_type": "code",
   "execution_count": 24,
   "metadata": {},
   "outputs": [],
   "source": [
    "#Your code here"
   ]
  },
  {
   "cell_type": "markdown",
   "metadata": {},
   "source": [
    "## Wages and Education II\n",
    "\n",
    "Now perform a similar statistical test comparing the AdjustedCompensation of those with Bachelor's degrees and those with Doctorates. If you haven't already, be sure to explore the distribution of the AdjustedCompensation feature for any anomalies. "
   ]
  },
  {
   "cell_type": "code",
   "execution_count": 25,
   "metadata": {},
   "outputs": [],
   "source": [
    "#Your code here"
   ]
  },
  {
   "cell_type": "code",
   "execution_count": 26,
   "metadata": {},
   "outputs": [],
   "source": [
    "# sample 1 = bachelors\n",
    "bachelors = ed_sal[ed_sal['FormalEducation'] == \"Bachelor's degree\"][\"AdjustedCompensation\"]\n",
    "\n",
    "# sample 2 = doctoral\n",
    "doctoral = ed_sal[ed_sal['FormalEducation'] == \"Doctoral degree\"][\"AdjustedCompensation\"]"
   ]
  },
  {
   "cell_type": "code",
   "execution_count": 27,
   "metadata": {},
   "outputs": [
    {
     "name": "stdout",
     "output_type": "stream",
     "text": [
      "Adjusted Compensation\n",
      "Bachelor's Degree vs. Doctoral Degree\n",
      "mean:\n",
      "    $64887 : $29566175\n",
      "    difference: $29501288\n",
      "median:\n",
      "    $38399 : $74131\n",
      "    difference: $35732\n",
      "standard deviation:\n",
      "    306935 : 909998082\n",
      "sample size:\n",
      "    1107 : 967\n"
     ]
    }
   ],
   "source": [
    "# compare the two groups: mean, median, sd\n",
    "\n",
    "print(\"Adjusted Compensation\")\n",
    "print(\"Bachelor's Degree vs. Doctoral Degree\")\n",
    "print(\"mean:\")\n",
    "print(f\"    ${int(bachelors.mean())} : ${int(doctoral.mean())}\")\n",
    "print(f\"    difference: ${(int(doctoral.mean()))-(int(bachelors.mean()))}\")\n",
    "print(\"median:\")\n",
    "print(f\"    ${int(bachelors.median())} : ${int(doctoral.median())}\")\n",
    "print(f\"    difference: ${(int(doctoral.median()))-(int(bachelors.median()))}\")\n",
    "print(\"standard deviation:\")\n",
    "print(f\"    {int(bachelors.std())} : {int(doctoral.std())}\")\n",
    "print(\"sample size:\")\n",
    "print(f\"    {len(bachelors)} : {len(doctoral)}\")\n"
   ]
  },
  {
   "cell_type": "code",
   "execution_count": 28,
   "metadata": {},
   "outputs": [
    {
     "data": {
      "text/plain": [
       "0.15682381994720257"
      ]
     },
     "execution_count": 28,
     "metadata": {},
     "output_type": "execute_result"
    }
   ],
   "source": [
    "# find the p-value\n",
    "t_stat, p_value = stats.ttest_ind(bachelors, doctoral, equal_var=False, nan_policy='omit') # equal_var=False: Welch's T-test\n",
    "oneside_pval = p_value/2\n",
    "oneside_pval"
   ]
  },
  {
   "cell_type": "code",
   "execution_count": 29,
   "metadata": {},
   "outputs": [
    {
     "data": {
      "text/plain": [
       "False"
      ]
     },
     "execution_count": 29,
     "metadata": {},
     "output_type": "execute_result"
    }
   ],
   "source": [
    "# conclusions\n",
    "\"\"\"\n",
    "The p-value of .16 is not less than the alpha threshold of .05, \n",
    "therefore, I have failed to reject the null hypothesis. \n",
    "There is no significant relationship between a budding data \n",
    "scientist's formal education of a Bachelor's vs a Doctoral degree \n",
    "and their adjusted compensation.\n",
    "\"\"\"\n",
    "oneside_pval < alpha"
   ]
  },
  {
   "cell_type": "code",
   "execution_count": 30,
   "metadata": {},
   "outputs": [
    {
     "data": {
      "image/png": "[encoded data removed]",
      "text/plain": [
       "<Figure size 432x288 with 1 Axes>"
      ]
     },
     "metadata": {
      "needs_background": "light"
     },
     "output_type": "display_data"
    }
   ],
   "source": [
    "# trying something else to remove outliers\n",
    "# visualize doctoral first\n",
    "\n",
    "# unhash to visualize outliers\n",
    "#plt.boxplot(doctoral, showfliers=True)\n",
    "\n",
    "plt.boxplot(doctoral, showfliers=False)\n",
    "plt.show();"
   ]
  },
  {
   "cell_type": "code",
   "execution_count": 31,
   "metadata": {},
   "outputs": [
    {
     "data": {
      "image/png": "[encoded data removed]",
      "text/plain": [
       "<Figure size 432x288 with 1 Axes>"
      ]
     },
     "metadata": {
      "needs_background": "light"
     },
     "output_type": "display_data"
    }
   ],
   "source": [
    "# visualize bachelor's next\n",
    "\n",
    "# unhash to visualize outliers\n",
    "#plt.boxplot(bachelors, showfliers=True)\n",
    "\n",
    "plt.boxplot(bachelors, showfliers=False)\n",
    "plt.show();"
   ]
  },
  {
   "cell_type": "code",
   "execution_count": 32,
   "metadata": {},
   "outputs": [],
   "source": [
    "# remove outliers with quantiles\n",
    "\n",
    "# set values\n",
    "d_q1 = np.quantile(doctoral, .25)\n",
    "d_q3 = np.quantile(doctoral, .75)\n",
    "d_iqr = stats.iqr(doctoral)\n",
    "\n",
    "# remove outliers \n",
    "d = []\n",
    "for ad_comp in doctoral:\n",
    "    if ad_comp >= d_q1-(1.5*d_iqr) and ad_comp <= d_q3+(1.5*d_iqr):\n",
    "        d.append(ad_comp)"
   ]
  },
  {
   "cell_type": "code",
   "execution_count": 33,
   "metadata": {},
   "outputs": [
    {
     "data": {
      "image/png": "[encoded data removed]",
      "text/plain": [
       "<Figure size 432x288 with 1 Axes>"
      ]
     },
     "metadata": {
      "needs_background": "light"
     },
     "output_type": "display_data"
    }
   ],
   "source": [
    "# visually compare to above\n",
    "plt.boxplot(d, showfliers=True)\n",
    "plt.show();"
   ]
  },
  {
   "cell_type": "code",
   "execution_count": 34,
   "metadata": {},
   "outputs": [
    {
     "data": {
      "image/png": "[encoded data removed]",
      "text/plain": [
       "<Figure size 432x288 with 1 Axes>"
      ]
     },
     "metadata": {
      "needs_background": "light"
     },
     "output_type": "display_data"
    }
   ],
   "source": [
    "# repeat for bachelor's\n",
    "# set values\n",
    "b_q1 = np.quantile(bachelors, .25)\n",
    "b_q3 = np.quantile(bachelors, .75)\n",
    "b_iqr = stats.iqr(bachelors)\n",
    "\n",
    "# remove outliers \n",
    "b = []\n",
    "for ad_comp in bachelors:\n",
    "    if ad_comp >= b_q1-(1.5*b_iqr) and ad_comp <= b_q3+(1.5*b_iqr):\n",
    "        b.append(ad_comp)\n",
    "\n",
    "# visually compare\n",
    "plt.boxplot(b, showfliers=True)\n",
    "plt.show();"
   ]
  },
  {
   "cell_type": "code",
   "execution_count": 35,
   "metadata": {},
   "outputs": [
    {
     "data": {
      "text/plain": [
       "1.1304814995613013e-46"
      ]
     },
     "execution_count": 35,
     "metadata": {},
     "output_type": "execute_result"
    }
   ],
   "source": [
    "# find the p-value with outliers removed\n",
    "t_stat, p_value = stats.ttest_ind(b, d, equal_var=False, nan_policy='omit') # equal_var=False: Welch's T-test\n",
    "oneside_pval = p_value/2\n",
    "oneside_pval"
   ]
  },
  {
   "cell_type": "code",
   "execution_count": 36,
   "metadata": {},
   "outputs": [
    {
     "data": {
      "text/plain": [
       "True"
      ]
     },
     "execution_count": 36,
     "metadata": {},
     "output_type": "execute_result"
    }
   ],
   "source": [
    "# conclusions with outliers removed\n",
    "\"\"\"\n",
    "After removing the outliers from both the Bachelor's and \n",
    "Doctoral degrees, the p-value dropped to well below the alpha\n",
    "threshold of .05, therefore, I have rejected the null \n",
    "hypothesis and concluded that there is a relationship between \n",
    "adjusted compensation and level of formal education.\n",
    "\"\"\"\n",
    "oneside_pval < alpha"
   ]
  },
  {
   "cell_type": "markdown",
   "metadata": {},
   "source": [
    "## Wages and Education III\n",
    "\n",
    "Remember the multiple comparisons problem; rather than continuing on like this, perform an ANOVA test between the various 'FormalEducation' categories and their relation to 'AdjustedCompensation'."
   ]
  },
  {
   "cell_type": "code",
   "execution_count": 37,
   "metadata": {},
   "outputs": [],
   "source": [
    "#Your code here\n",
    "\n",
    "####### CLAUDE #######\n",
    "\n",
    "# Where do I go from here to compare with outliers removed, \n",
    "# I have two list (b, d, not df's), I'd have to make list for \n",
    "# Master's with outliers removed using quartiles\n",
    "# pd.DataFrame?\n"
   ]
  },
  {
   "cell_type": "code",
   "execution_count": 38,
   "metadata": {},
   "outputs": [
    {
     "data": {
      "text/html": [
       "<div>\n",
       "<style scoped>\n",
       "    .dataframe tbody tr th:only-of-type {\n",
       "        vertical-align: middle;\n",
       "    }\n",
       "\n",
       "    .dataframe tbody tr th {\n",
       "        vertical-align: top;\n",
       "    }\n",
       "\n",
       "    .dataframe thead th {\n",
       "        text-align: right;\n",
       "    }\n",
       "</style>\n",
       "<table border=\"1\" class=\"dataframe\">\n",
       "  <thead>\n",
       "    <tr style=\"text-align: right;\">\n",
       "      <th></th>\n",
       "      <th>FormalEducation</th>\n",
       "      <th>AdjustedCompensation</th>\n",
       "    </tr>\n",
       "  </thead>\n",
       "  <tbody>\n",
       "    <tr>\n",
       "      <th>26255</th>\n",
       "      <td>Master's degree</td>\n",
       "      <td>89686.95</td>\n",
       "    </tr>\n",
       "    <tr>\n",
       "      <th>26378</th>\n",
       "      <td>Master's degree</td>\n",
       "      <td>10000.00</td>\n",
       "    </tr>\n",
       "  </tbody>\n",
       "</table>\n",
       "</div>"
      ],
      "text/plain": [
       "       FormalEducation  AdjustedCompensation\n",
       "26255  Master's degree              89686.95\n",
       "26378  Master's degree              10000.00"
      ]
     },
     "execution_count": 38,
     "metadata": {},
     "output_type": "execute_result"
    }
   ],
   "source": [
    "ed_sal.tail(2)"
   ]
  },
  {
   "cell_type": "code",
   "execution_count": 39,
   "metadata": {},
   "outputs": [
    {
     "name": "stdout",
     "output_type": "stream",
     "text": [
      "                          sum_sq      df         F    PR(>F)\n",
      "C(FormalEducation)  6.540294e+17     6.0  0.590714  0.738044\n",
      "Residual            7.999414e+20  4335.0       NaN       NaN\n"
     ]
    }
   ],
   "source": [
    "formula = 'AdjustedCompensation ~ C(FormalEducation)'\n",
    "lm = ols(formula, ed_sal).fit()\n",
    "table = sm.stats.anova_lm(lm, typ=2)\n",
    "print(table)\n",
    "\n",
    "# anova same as two sided t test? so divide value by 2?\n",
    "# what am I looking at here?"
   ]
  },
  {
   "cell_type": "code",
   "execution_count": null,
   "metadata": {},
   "outputs": [],
   "source": []
  },
  {
   "cell_type": "code",
   "execution_count": null,
   "metadata": {},
   "outputs": [],
   "source": []
  },
  {
   "cell_type": "markdown",
   "metadata": {},
   "source": [
    "## Additional Resources\n",
    "\n",
    "Here's the original source where the data was taken from:  \n",
    "    [Kaggle Machine Learning & Data Science Survey 2017](https://www.kaggle.com/kaggle/kaggle-survey-2017)"
   ]
  },
  {
   "cell_type": "markdown",
   "metadata": {},
   "source": [
    "## Summary\n",
    "\n",
    "In this lab, you practiced conducting actual hypothesis tests on actual data. From this, you saw how dependent results can be on the initial problem formulation, including preprocessing!"
   ]
  }
 ],
 "metadata": {
  "kernelspec": {
   "display_name": "Python 3",
   "language": "python",
   "name": "python3"
  },
  "language_info": {
   "codemirror_mode": {
    "name": "ipython",
    "version": 3
   },
   "file_extension": ".py",
   "mimetype": "text/x-python",
   "name": "python",
   "nbconvert_exporter": "python",
   "pygments_lexer": "ipython3",
   "version": "3.8.5"
  },
  "toc": {
   "base_numbering": 1,
   "nav_menu": {},
   "number_sections": true,
   "sideBar": true,
   "skip_h1_title": false,
   "title_cell": "Table of Contents",
   "title_sidebar": "Contents",
   "toc_cell": false,
   "toc_position": {},
   "toc_section_display": true,
   "toc_window_display": false
  }
 },
 "nbformat": 4,
 "nbformat_minor": 2
}
